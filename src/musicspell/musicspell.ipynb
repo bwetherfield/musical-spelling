{
 "cells": [
  {
   "cell_type": "code",
   "execution_count": 54,
   "metadata": {},
   "outputs": [],
   "source": [
    "import pandas as pd"
   ]
  },
  {
   "cell_type": "code",
   "execution_count": 55,
   "metadata": {},
   "outputs": [],
   "source": [
    "import music21 as m21"
   ]
  },
  {
   "cell_type": "code",
   "execution_count": 56,
   "metadata": {},
   "outputs": [],
   "source": [
    "b = m21.corpus.parse('bwv66.6')"
   ]
  },
  {
   "cell_type": "code",
   "execution_count": 57,
   "metadata": {},
   "outputs": [],
   "source": [
    "score_info = []\n",
    "for i, part in enumerate(b.parts):\n",
    "    for obj in part.flat.getElementsByClass(m21.note.GeneralNote):\n",
    "        d = {\n",
    "                'part' : i,\n",
    "                'id' : obj.id,\n",
    "                'pitch' : [],\n",
    "                'score pos' : obj.offset,\n",
    "                'duration' : obj.duration.quarterLength\n",
    "            }\n",
    "        if isinstance(obj, m21.note.Note):\n",
    "            d['pitch'] = [obj.pitch.midi]\n",
    "        elif isinstance(obj, m21.note.Chord):\n",
    "            print(\"chord\")\n",
    "        score_info.append(d)\n",
    "\n",
    "df = pd.DataFrame(score_info)\n",
    "df[df['part'] == 2].head()\n",
    "a = 0.5\n",
    "b = 2.0\n",
    "df_new = df[(df['part'] == 2) & (df['score pos'] > a) & (df['score pos'] < b)]"
   ]
  },
  {
   "cell_type": "code",
   "execution_count": 63,
   "metadata": {},
   "outputs": [
    {
     "name": "stdout",
     "output_type": "stream",
     "text": [
      "1.0\n"
     ]
    }
   ],
   "source": [
    "for i, row in df_new.iterrows():\n",
    "    print(row.duration)"
   ]
  },
  {
   "cell_type": "code",
   "execution_count": null,
   "metadata": {},
   "outputs": [],
   "source": []
  }
 ],
 "metadata": {
  "kernelspec": {
   "display_name": "Python 3",
   "language": "python",
   "name": "python3"
  },
  "language_info": {
   "codemirror_mode": {
    "name": "ipython",
    "version": 3
   },
   "file_extension": ".py",
   "mimetype": "text/x-python",
   "name": "python",
   "nbconvert_exporter": "python",
   "pygments_lexer": "ipython3",
   "version": "3.6.2"
  }
 },
 "nbformat": 4,
 "nbformat_minor": 2
}
